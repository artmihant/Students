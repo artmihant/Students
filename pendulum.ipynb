{
 "cells": [
  {
   "cell_type": "markdown",
   "metadata": {},
   "source": [
    "# Занятие 1\n",
    "*Моделирование нелинейного движения маятника.*\n",
    "*Методы Эйлера и Рунге-Кутты.*\n",
    "*Организация кода программы.*\n"
   ]
  },
  {
   "cell_type": "markdown",
   "metadata": {},
   "source": [
    "## Задача\n",
    "\n",
    "Моделировать движение физического маятника, согласно уравнению:\n",
    "\n",
    "$l \\varphi''+\\mu \\varphi' + g  \\sin\\varphi = 0$\n",
    "\n",
    "где $l$- длина маятника, $\\mu$ - коэффициент трения качения, $g$ - ускорение свободного падения"
   ]
  },
  {
   "cell_type": "markdown",
   "metadata": {},
   "source": [
    "Заменим переменные:\n",
    "\n",
    "$u''+2\\gamma u' + \\omega^2\\sin u = 0$\n",
    "\n",
    "$v = u'$\n",
    "\n",
    "\n",
    "$ \\vec{s}' = D\\vec{s} \\Leftrightarrow  \\begin{pmatrix} u \\\\ v \\end{pmatrix}' = \\begin{pmatrix} v \\\\ -2\\gamma v - \\omega^2\\sin u \\end{pmatrix}$\n",
    "\n",
    "Далее мы будем придерживаться этих обозначения в коде программы"
   ]
  },
  {
   "cell_type": "code",
   "execution_count": 2,
   "metadata": {},
   "outputs": [],
   "source": [
    "# Импортируем нужные бибилиотеки #\n",
    "import numpy as np"
   ]
  },
  {
   "cell_type": "markdown",
   "metadata": {},
   "source": [
    "Описываем физику задачи в коде. \n",
    "\n",
    "Мы решаем уравнение: $ \\frac{d s}{d t} = D s $. Независимо от метода решения, нужно явно описать действие оператора $D$, начальные и граничные условия, а так же рамки пространства и времени действия задачи"
   ]
  },
  {
   "cell_type": "code",
   "execution_count": null,
   "metadata": {},
   "outputs": [],
   "source": [
    "# PHYSICS #\n",
    "\n",
    "Gamma = 1\n",
    "\n",
    "Omega = 1\n",
    "\n",
    "def D(s,t):\n",
    "    u = s[0]\n",
    "    v = s[1]\n",
    "    return np.array(( v, -2*Gamma*v-Omega**2*np.sin(u)))"
   ]
  },
  {
   "cell_type": "code",
   "execution_count": null,
   "metadata": {},
   "outputs": [],
   "source": [
    "# NUMERIC #\n",
    "\n",
    "DeltaT = 0.01"
   ]
  },
  {
   "cell_type": "code",
   "execution_count": null,
   "metadata": {},
   "outputs": [],
   "source": [
    "def euler_step(s):\n",
    "    return s + D(s)*DeltaT"
   ]
  },
  {
   "cell_type": "markdown",
   "metadata": {},
   "source": [
    "Мы можем вычислить всю траекторию, и затем отобразить, или отображать её по мере вычисления. Первое лучше, при условии, что нам хватает оперативной памяти для хранения траектории, так как позволяет разделить вычисление и отображение в коде. "
   ]
  },
  {
   "cell_type": "code",
   "execution_count": null,
   "metadata": {},
   "outputs": [],
   "source": []
  }
 ],
 "metadata": {
  "kernelspec": {
   "display_name": "Python 3",
   "language": "python",
   "name": "python3"
  },
  "language_info": {
   "codemirror_mode": {
    "name": "ipython",
    "version": 3
   },
   "file_extension": ".py",
   "mimetype": "text/x-python",
   "name": "python",
   "nbconvert_exporter": "python",
   "pygments_lexer": "ipython3",
   "version": "3.10.12"
  }
 },
 "nbformat": 4,
 "nbformat_minor": 2
}
